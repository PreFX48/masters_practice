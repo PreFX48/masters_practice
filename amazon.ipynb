{
 "cells": [
  {
   "cell_type": "code",
   "execution_count": 1,
   "metadata": {},
   "outputs": [],
   "source": [
    "%matplotlib inline"
   ]
  },
  {
   "cell_type": "code",
   "execution_count": 2,
   "metadata": {},
   "outputs": [],
   "source": [
    "import numpy as np\n",
    "from catboost import datasets\n",
    "import pandas as pd\n",
    "from tensorflow import keras"
   ]
  },
  {
   "cell_type": "code",
   "execution_count": 3,
   "metadata": {
    "scrolled": false
   },
   "outputs": [],
   "source": [
    "from base_experiment import BaseExperiment\n",
    "\n",
    "class AmazonExperiment(BaseExperiment):\n",
    "    POSITIVE_STEPS = [2000, 5000, 10000, 20000, 30872]\n",
    "    NEGATIVE_STEPS = [500, 1000, 1897]\n",
    "    PLOT_FIG_SIZE = (8, 10.67)\n",
    "\n",
    "    def get_dataset(self):\n",
    "        train_df, _ = datasets.amazon()\n",
    "        train_df = train_df[:500]\n",
    "        y = train_df['ACTION']\n",
    "        X = train_df.drop(columns='ACTION') # or X = train_df.drop('ACTION', axis=1)\n",
    "        return X, y, X.columns\n",
    "\n",
    "# AmazonExperiment().run()"
   ]
  },
  {
   "cell_type": "code",
   "execution_count": 10,
   "metadata": {},
   "outputs": [],
   "source": [
    "exp = AmazonExperiment()\n",
    "X, y, cat_features = exp.get_dataset()"
   ]
  },
  {
   "cell_type": "code",
   "execution_count": null,
   "metadata": {},
   "outputs": [],
   "source": []
  }
 ],
 "metadata": {
  "kernelspec": {
   "display_name": "Python 3",
   "language": "python",
   "name": "python3"
  },
  "language_info": {
   "codemirror_mode": {
    "name": "ipython",
    "version": 3
   },
   "file_extension": ".py",
   "mimetype": "text/x-python",
   "name": "python",
   "nbconvert_exporter": "python",
   "pygments_lexer": "ipython3",
   "version": "3.8.3"
  }
 },
 "nbformat": 4,
 "nbformat_minor": 2
}
