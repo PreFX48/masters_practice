{
 "cells": [
  {
   "cell_type": "code",
   "execution_count": 7,
   "metadata": {},
   "outputs": [],
   "source": [
    "import numpy as np\n",
    "from catboost import CatBoostClassifier, datasets\n",
    "import pandas as pd\n",
    "from sklearn.model_selection import train_test_split\n",
    "from sklearn.metrics import accuracy_score\n",
    "from tqdm.notebook import tqdm, trange\n",
    "import matplotlib.pyplot as plt"
   ]
  },
  {
   "cell_type": "markdown",
   "metadata": {},
   "source": [
    "# AMAZON"
   ]
  },
  {
   "cell_type": "code",
   "execution_count": 2,
   "metadata": {},
   "outputs": [],
   "source": [
    "positive_steps = [2000, 5000, 10000, 20000, 30872]\n",
    "negative_steps = [500, 1000, 1897]"
   ]
  },
  {
   "cell_type": "markdown",
   "metadata": {},
   "source": [
    "# Catboost"
   ]
  },
  {
   "cell_type": "code",
   "execution_count": 48,
   "metadata": {},
   "outputs": [
    {
     "data": {
      "application/vnd.jupyter.widget-view+json": {
       "model_id": "fee581188f0d4272b5287b14b896985f",
       "version_major": 2,
       "version_minor": 0
      },
      "text/plain": [
       "HBox(children=(FloatProgress(value=0.0, max=5.0), HTML(value='')))"
      ]
     },
     "metadata": {},
     "output_type": "display_data"
    },
    {
     "data": {
      "application/vnd.jupyter.widget-view+json": {
       "model_id": "",
       "version_major": 2,
       "version_minor": 0
      },
      "text/plain": [
       "HBox(children=(FloatProgress(value=0.0, max=3.0), HTML(value='')))"
      ]
     },
     "metadata": {},
     "output_type": "display_data"
    },
    {
     "data": {
      "application/vnd.jupyter.widget-view+json": {
       "model_id": "",
       "version_major": 2,
       "version_minor": 0
      },
      "text/plain": [
       "HBox(children=(FloatProgress(value=0.0, max=3.0), HTML(value='')))"
      ]
     },
     "metadata": {},
     "output_type": "display_data"
    },
    {
     "data": {
      "application/vnd.jupyter.widget-view+json": {
       "model_id": "",
       "version_major": 2,
       "version_minor": 0
      },
      "text/plain": [
       "HBox(children=(FloatProgress(value=0.0, max=3.0), HTML(value='')))"
      ]
     },
     "metadata": {},
     "output_type": "display_data"
    },
    {
     "data": {
      "application/vnd.jupyter.widget-view+json": {
       "model_id": "",
       "version_major": 2,
       "version_minor": 0
      },
      "text/plain": [
       "HBox(children=(FloatProgress(value=0.0, max=3.0), HTML(value='')))"
      ]
     },
     "metadata": {},
     "output_type": "display_data"
    },
    {
     "data": {
      "application/vnd.jupyter.widget-view+json": {
       "model_id": "",
       "version_major": 2,
       "version_minor": 0
      },
      "text/plain": [
       "HBox(children=(FloatProgress(value=0.0, max=3.0), HTML(value='')))"
      ]
     },
     "metadata": {},
     "output_type": "display_data"
    },
    {
     "name": "stdout",
     "output_type": "stream",
     "text": [
      "\n"
     ]
    }
   ],
   "source": [
    "catboost_scores = np.zeros(shape=(len(negative_steps), len(positive_steps)))\n",
    "catboost_means = np.zeros(shape=(len(negative_steps), len(positive_steps)))\n",
    "for i, positive in enumerate(tqdm(positive_steps)):\n",
    "    for j, negative in enumerate(tqdm(negative_steps, leave=False)):\n",
    "        train_df, _ = datasets.amazon() # nice datasets with categorical features only :D\n",
    "        train_df = (\n",
    "            pd\n",
    "            .concat([train_df[train_df.ACTION == 1][:positive], train_df[train_df.ACTION == 0][:negative]])\n",
    "            .sample(frac=1)\n",
    "            .reset_index(drop=True)\n",
    "        )\n",
    "        y = train_df['ACTION']\n",
    "        X = train_df.drop(columns='ACTION') # or X = train_df.drop('ACTION', axis=1)\n",
    "        X_train, X_valid, y_train, y_valid = train_test_split(X, y, test_size=0.25)\n",
    "        \n",
    "        condition = True # here we specify what condition should be satisfied only by the names of categorical features\n",
    "        cat_features_names = [col for col in X.columns if condition]\n",
    "        cat_features = [X.columns.get_loc(col) for col in cat_features_names]\n",
    "\n",
    "        params = {'loss_function':'Logloss',\n",
    "                  'eval_metric':'AUC',\n",
    "                  'cat_features': cat_features,\n",
    "                  'early_stopping_rounds': 200,\n",
    "                  'verbose': False,  # 200, # output to stdout info about training process every 200 iterations\n",
    "                 }\n",
    "        cbc_1 = CatBoostClassifier(**params)\n",
    "        cbc_1.fit(\n",
    "            X_train, y_train,\n",
    "            eval_set=(X_valid, y_valid),\n",
    "            use_best_model=True,\n",
    "            plot=False,\n",
    "        )\n",
    "        catboost_scores[j, i] = accuracy_score(y_valid, cbc_1.predict(X_valid))\n",
    "        catboost_means[j, i] = cbc_1.predict(X_valid).mean()"
   ]
  },
  {
   "cell_type": "markdown",
   "metadata": {},
   "source": [
    "## Keras"
   ]
  },
  {
   "cell_type": "code",
   "execution_count": 4,
   "metadata": {},
   "outputs": [],
   "source": [
    "# TensorFlow and tf.keras\n",
    "import tensorflow as tf\n",
    "from tensorflow import keras\n",
    "\n",
    "# Helper libraries\n",
    "import numpy as np\n",
    "import matplotlib.pyplot as plt"
   ]
  },
  {
   "cell_type": "code",
   "execution_count": 50,
   "metadata": {},
   "outputs": [
    {
     "data": {
      "application/vnd.jupyter.widget-view+json": {
       "model_id": "59562712f8104965877af6b29be177bc",
       "version_major": 2,
       "version_minor": 0
      },
      "text/plain": [
       "HBox(children=(FloatProgress(value=0.0, max=5.0), HTML(value='')))"
      ]
     },
     "metadata": {},
     "output_type": "display_data"
    },
    {
     "data": {
      "application/vnd.jupyter.widget-view+json": {
       "model_id": "",
       "version_major": 2,
       "version_minor": 0
      },
      "text/plain": [
       "HBox(children=(FloatProgress(value=0.0, max=3.0), HTML(value='')))"
      ]
     },
     "metadata": {},
     "output_type": "display_data"
    },
    {
     "data": {
      "application/vnd.jupyter.widget-view+json": {
       "model_id": "",
       "version_major": 2,
       "version_minor": 0
      },
      "text/plain": [
       "HBox(children=(FloatProgress(value=0.0, max=3.0), HTML(value='')))"
      ]
     },
     "metadata": {},
     "output_type": "display_data"
    },
    {
     "data": {
      "application/vnd.jupyter.widget-view+json": {
       "model_id": "",
       "version_major": 2,
       "version_minor": 0
      },
      "text/plain": [
       "HBox(children=(FloatProgress(value=0.0, max=3.0), HTML(value='')))"
      ]
     },
     "metadata": {},
     "output_type": "display_data"
    },
    {
     "data": {
      "application/vnd.jupyter.widget-view+json": {
       "model_id": "",
       "version_major": 2,
       "version_minor": 0
      },
      "text/plain": [
       "HBox(children=(FloatProgress(value=0.0, max=3.0), HTML(value='')))"
      ]
     },
     "metadata": {},
     "output_type": "display_data"
    },
    {
     "data": {
      "application/vnd.jupyter.widget-view+json": {
       "model_id": "",
       "version_major": 2,
       "version_minor": 0
      },
      "text/plain": [
       "HBox(children=(FloatProgress(value=0.0, max=3.0), HTML(value='')))"
      ]
     },
     "metadata": {},
     "output_type": "display_data"
    },
    {
     "name": "stdout",
     "output_type": "stream",
     "text": [
      "\n"
     ]
    }
   ],
   "source": [
    "keras_scores = np.zeros(shape=(len(negative_steps), len(positive_steps)))\n",
    "keras_means = np.zeros(shape=(len(negative_steps), len(positive_steps)))\n",
    "for i, positive in enumerate(tqdm(positive_steps)):\n",
    "    for j, negative in enumerate(tqdm(negative_steps, leave=False)):\n",
    "        train_df, _ = datasets.amazon() # nice datasets with categorical features only :D\n",
    "        train_df = (\n",
    "            pd\n",
    "            .concat([train_df[train_df.ACTION == 1][:positive], train_df[train_df.ACTION == 0][:negative]])\n",
    "            .sample(frac=1)\n",
    "            .reset_index(drop=True)\n",
    "        )\n",
    "        y = train_df['ACTION']\n",
    "        X = train_df.drop(columns='ACTION') # or X = train_df.drop('ACTION', axis=1)\n",
    "\n",
    "        # pd.get_dummies(X_train, columns=X_train.columns).shape\n",
    "        for col in X.columns:\n",
    "            X[col] = (X[col] - X[col].min()) / (X[col].max() - X[col].min())\n",
    "\n",
    "        X = X.astype('float32')\n",
    "        y = y.astype('float32')\n",
    "        X_train, X_valid, y_train, y_valid = train_test_split(X, y, test_size=0.25)\n",
    "        \n",
    "        model = keras.Sequential([\n",
    "            keras.layers.Dense(128, activation='relu'),\n",
    "            keras.layers.Dense(256, activation='relu'),\n",
    "            keras.layers.Dense(1, activation='sigmoid'),\n",
    "        ])\n",
    "        model.compile(optimizer='adam',\n",
    "                      loss='binary_crossentropy',\n",
    "                      metrics=['accuracy'])\n",
    "        model.fit(X_train, y_train, epochs=10, verbose=False)\n",
    "\n",
    "        test_loss, test_acc = model.evaluate(X_valid,  y_valid, verbose=0)\n",
    "        \n",
    "        keras_scores[j, i] = test_acc\n",
    "        keras_means[j, i] = (model.predict(X_valid) > 0.5).mean()"
   ]
  },
  {
   "cell_type": "code",
   "execution_count": 54,
   "metadata": {},
   "outputs": [
    {
     "data": {
      "image/png": "[encoded data removed]",
      "text/plain": [
       "<Figure size 720x576 with 1 Axes>"
      ]
     },
     "metadata": {
      "needs_background": "light"
     },
     "output_type": "display_data"
    }
   ],
   "source": [
    "\n",
    "\n",
    "cmap = np.concatenate([\n",
    "    catboost_scores,\n",
    "    np.full((1, len(positive_steps)), min(catboost_scores.min(), keras_scores.min())),\n",
    "    keras_scores\n",
    "])\n",
    "plt.figure(figsize=(10, 8))\n",
    "plt.title(f'Accuracy', fontsize=18)\n",
    "plt.imshow(cmap, cmap=plt.get_cmap(\"PiYG\", 7))\n",
    "plt.xlabel('Positives', fontsize=14)\n",
    "plt.ylabel('Negatives', fontsize=14)\n",
    "plt.xticks(range(len(positive_steps)), positive_steps)\n",
    "plt.yticks(\n",
    "    range(len(negative_steps)*2+1),\n",
    "    [f'{x} (Catboost)' for x in negative_steps] + [''] + [f'{x} (Keras)' for x in negative_steps]\n",
    ")\n",
    "for i in range(len(negative_steps)):\n",
    "    for j in range(len(positive_steps)):\n",
    "        plt.text(j-0.45, i-0.25, f'true+={round(positive_steps[j] / (positive_steps[j] + negative_steps[i]), 2)}')\n",
    "        plt.text(j-0.45, i, f'pred={round(catboost_means[i, j], 2)}')\n",
    "        plt.text(j-0.45, i+0.25, f'acc={round(catboost_scores[i, j], 3)}')\n",
    "        plt.text(j-0.45, i-0.25 + len(negative_steps) + 1, f'true+={round(positive_steps[j] / (positive_steps[j] + negative_steps[i]), 2)}')\n",
    "        plt.text(j-0.45, i + len(negative_steps) + 1, f'pred={round(keras_means[i, j], 2)}')\n",
    "        plt.text(j-0.45, i+0.25 + len(negative_steps) + 1, f'acc={round(keras_scores[i, j], 3)}')"
   ]
  },
  {
   "cell_type": "markdown",
   "metadata": {},
   "source": [
    "## Catboost (plain)"
   ]
  },
  {
   "cell_type": "code",
   "execution_count": null,
   "metadata": {},
   "outputs": [],
   "source": [
    "train_df, _ = datasets.amazon() # nice datasets with categorical features only :D\n",
    "train_df = (\n",
    "    pd\n",
    "    .concat([train_df[train_df.ACTION == 1][:5000], train_df[train_df.ACTION == 0]])\n",
    "    .sample(frac=1)\n",
    "    .reset_index(drop=True)\n",
    ")\n",
    "y = train_df['ACTION']\n",
    "X = train_df.drop(columns='ACTION') # or X = train_df.drop('ACTION', axis=1)\n",
    "X_train, X_valid, y_train, y_valid = train_test_split(X, y, test_size=0.25)"
   ]
  },
  {
   "cell_type": "code",
   "execution_count": null,
   "metadata": {},
   "outputs": [],
   "source": [
    "condition = True # here we specify what condition should be satisfied only by the names of categorical features\n",
    "cat_features_names = [col for col in X.columns if condition]\n",
    "cat_features = [X.columns.get_loc(col) for col in cat_features_names]\n",
    "\n",
    "params = {'loss_function':'Logloss',\n",
    "          'eval_metric':'AUC',\n",
    "          'cat_features': cat_features,\n",
    "          'early_stopping_rounds': 200,\n",
    "          'verbose': False,  # 200, # output to stdout info about training process every 200 iterations\n",
    "         }\n",
    "cbc_1 = CatBoostClassifier(**params)\n",
    "cbc_1.fit(\n",
    "    X_train, y_train,\n",
    "    eval_set=(X_valid, y_valid),\n",
    "    use_best_model=True,\n",
    "    plot=False,\n",
    ")"
   ]
  },
  {
   "cell_type": "markdown",
   "metadata": {},
   "source": [
    "## Keras (plain)"
   ]
  },
  {
   "cell_type": "code",
   "execution_count": null,
   "metadata": {},
   "outputs": [],
   "source": [
    "train_df, _ = datasets.amazon()\n",
    "y = train_df['ACTION']\n",
    "X = train_df.drop(columns='ACTION') # or X = train_df.drop('ACTION', axis=1)\n",
    "\n",
    "# pd.get_dummies(X_train, columns=X_train.columns).shape\n",
    "for col in X.columns:\n",
    "    X[col] = (X[col] - X[col].min()) / (X[col].max() - X[col].min())\n",
    "\n",
    "X_train, X_valid, y_train, y_valid = train_test_split(X, y, test_size=0.25)"
   ]
  },
  {
   "cell_type": "code",
   "execution_count": null,
   "metadata": {},
   "outputs": [],
   "source": [
    "model = keras.Sequential([\n",
    "    keras.layers.Dense(128, activation='relu'),\n",
    "    keras.layers.Dense(256, activation='relu'),\n",
    "    keras.layers.Dense(1, activation='sigmoid'),\n",
    "])\n",
    "model.compile(optimizer='adam',\n",
    "              loss='binary_crossentropy',\n",
    "              metrics=['accuracy'])\n",
    "model.fit(X_train, y_train, epochs=10)\n",
    "\n",
    "test_loss, test_acc = model.evaluate(X_valid,  y_valid, verbose=2)\n",
    "print('\\nTest accuracy:', test_acc)\n"
   ]
  },
  {
   "cell_type": "code",
   "execution_count": null,
   "metadata": {},
   "outputs": [],
   "source": [
    "model.predict(X_train).mean()"
   ]
  },
  {
   "cell_type": "code",
   "execution_count": null,
   "metadata": {},
   "outputs": [],
   "source": [
    "y = train_df['ACTION']\n",
    "X = train_df.drop(columns='ACTION') # or X = train_df.drop('ACTION', axis=1)\n",
    "\n",
    "# pd.get_dummies(X_train, columns=X_train.columns).shape\n",
    "for col in X.columns:\n",
    "    X[col] = (X[col] - X[col].min()) / (X[col].max() - X[col].min())\n",
    "\n",
    "X_train, X_valid, y_train, y_valid = train_test_split(X, y, test_size=0.25)\n",
    "\n",
    "model = keras.Sequential([\n",
    "    keras.layers.Dense(128, activation='relu'),\n",
    "    keras.layers.Dense(256, activation='relu'),\n",
    "    keras.layers.Dense(1, activation='sigmoid'),\n",
    "])\n",
    "model.compile(optimizer='adam',\n",
    "              loss='binary_crossentropy',\n",
    "              metrics=['accuracy'])\n",
    "model.fit(X_train, y_train, epochs=10)\n",
    "\n",
    "test_loss, test_acc = model.evaluate(X_valid,  y_valid, verbose=2)\n",
    "print('\\nTest accuracy:', test_acc)\n"
   ]
  },
  {
   "cell_type": "code",
   "execution_count": null,
   "metadata": {},
   "outputs": [],
   "source": [
    "X.nunique()"
   ]
  }
 ],
 "metadata": {
  "kernelspec": {
   "display_name": "Python 3",
   "language": "python",
   "name": "python3"
  },
  "language_info": {
   "codemirror_mode": {
    "name": "ipython",
    "version": 3
   },
   "file_extension": ".py",
   "mimetype": "text/x-python",
   "name": "python",
   "nbconvert_exporter": "python",
   "pygments_lexer": "ipython3",
   "version": "3.8.3"
  }
 },
 "nbformat": 4,
 "nbformat_minor": 2
}
