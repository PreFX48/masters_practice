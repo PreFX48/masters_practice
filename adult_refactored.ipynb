{
 "cells": [
  {
   "cell_type": "code",
   "execution_count": null,
   "metadata": {},
   "outputs": [],
   "source": [
    "%matplotlib inline"
   ]
  },
  {
   "cell_type": "code",
   "execution_count": null,
   "metadata": {},
   "outputs": [],
   "source": [
    "import numpy as np\n",
    "import pandas as pd\n",
    "from tensorflow import keras"
   ]
  },
  {
   "cell_type": "code",
   "execution_count": null,
   "metadata": {
    "scrolled": false
   },
   "outputs": [],
   "source": [
    "from base_experiment import BaseExperiment\n",
    "\n",
    "class AdultExperiment(BaseExperiment):\n",
    "    POSITIVE_STEPS = [500, 1250, 2500, 5000, 7841]\n",
    "    NEGATIVE_STEPS = [2500, 5000, 10000, 20000, 24720]\n",
    "\n",
    "    def get_dataset(self):\n",
    "        df = pd.read_csv('adult/adult.data')\n",
    "#         df = df[:500]\n",
    "        y = df.label.apply(lambda x: 0 if x.strip() == '<=50K' else 1)\n",
    "        X = df.drop(columns=['label'])\n",
    "        cat_features = [\n",
    "            'workclass', 'education', 'marital_status', 'occupation', 'relationship',\n",
    "            'race', 'sex', 'native_country',\n",
    "        ]\n",
    "        return X, y, cat_features\n",
    "    \n",
    "    \n",
    "AdultExperiment().run()"
   ]
  },
  {
   "cell_type": "code",
   "execution_count": null,
   "metadata": {},
   "outputs": [],
   "source": []
  }
 ],
 "metadata": {
  "kernelspec": {
   "display_name": "Python 3",
   "language": "python",
   "name": "python3"
  },
  "language_info": {
   "codemirror_mode": {
    "name": "ipython",
    "version": 3
   },
   "file_extension": ".py",
   "mimetype": "text/x-python",
   "name": "python",
   "nbconvert_exporter": "python",
   "pygments_lexer": "ipython3",
   "version": "3.8.3"
  }
 },
 "nbformat": 4,
 "nbformat_minor": 2
}
