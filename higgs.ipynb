{
 "cells": [
  {
   "cell_type": "code",
   "execution_count": null,
   "metadata": {},
   "outputs": [],
   "source": [
    "%matplotlib inline"
   ]
  },
  {
   "cell_type": "code",
   "execution_count": null,
   "metadata": {},
   "outputs": [],
   "source": [
    "import numpy as np\n",
    "import pandas as pd\n",
    "from tensorflow import keras"
   ]
  },
  {
   "cell_type": "code",
   "execution_count": null,
   "metadata": {
    "scrolled": false
   },
   "outputs": [],
   "source": [
    "from base_experiment import BaseExperiment\n",
    "\n",
    "class HiggsSmallExperiment(BaseExperiment):\n",
    "    POSITIVE_STEPS = [12000, 25000, 50000, 105676]\n",
    "    NEGATIVE_STEPS = [12000, 25000, 50000, 94324]\n",
    "    PLOT_FIG_SIZE = (8, 10.67)\n",
    "\n",
    "    def get_dataset(self):\n",
    "        columns = [\n",
    "            'is_signal',\n",
    "            'lepton_pT', 'lepton_eta', 'lepton_phi', 'missing_energy_magnitude', 'missing_energy_phi',\n",
    "            'jet_1_pt', 'jet_1_eta', 'jet_1_phi', 'jet_1_b_tag',\n",
    "            'jet_2_pt', 'jet_2_eta', 'jet_2_phi', 'jet_2_b_tag',\n",
    "            'jet_3_pt', 'jet_3_eta', 'jet_3_phi', 'jet_3_b_tag',\n",
    "            'jet_4_pt', 'jet_4_eta', 'jet_4_phi', 'jet_4_b_tag',\n",
    "            'm_jj', 'm_jjj', 'm_lv', 'm_jlv', 'm_bb', 'm_wbb', 'm_wwbb',\n",
    "        ]\n",
    "        df = pd.read_csv('higgs_small.csv', names=columns)\n",
    "#         df = df[:500]\n",
    "        y = df['is_signal']\n",
    "        X = df.drop(columns='is_signal')\n",
    "        return X, y, []\n",
    "\n",
    "HiggsSmallExperiment().run()"
   ]
  },
  {
   "cell_type": "code",
   "execution_count": null,
   "metadata": {},
   "outputs": [],
   "source": []
  }
 ],
 "metadata": {
  "kernelspec": {
   "display_name": "Python 3",
   "language": "python",
   "name": "python3"
  },
  "language_info": {
   "codemirror_mode": {
    "name": "ipython",
    "version": 3
   },
   "file_extension": ".py",
   "mimetype": "text/x-python",
   "name": "python",
   "nbconvert_exporter": "python",
   "pygments_lexer": "ipython3",
   "version": "3.8.3"
  }
 },
 "nbformat": 4,
 "nbformat_minor": 2
}
