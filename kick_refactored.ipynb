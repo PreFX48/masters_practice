{
 "cells": [
  {
   "cell_type": "code",
   "execution_count": null,
   "metadata": {},
   "outputs": [],
   "source": [
    "%matplotlib inline"
   ]
  },
  {
   "cell_type": "code",
   "execution_count": null,
   "metadata": {},
   "outputs": [],
   "source": [
    "import numpy as np\n",
    "import pandas as pd\n",
    "from tensorflow import keras"
   ]
  },
  {
   "cell_type": "code",
   "execution_count": null,
   "metadata": {},
   "outputs": [],
   "source": [
    "import re\n",
    "\n",
    "from base_experiment import BaseExperiment\n",
    "\n",
    "def clean_string(s):\n",
    "    return re.sub('[^A-Za-z0-9]+', \"_\", str(s))\n",
    "\n",
    "\n",
    "class KickExperiment(BaseExperiment):\n",
    "    POSITIVE_STEPS = [7500, 15000, 30000, 64007]\n",
    "    NEGATIVE_STEPS = [2250, 4500, 8976]\n",
    "    PLOT_FIG_SIZE = (8, 10.67)\n",
    "\n",
    "    def get_dataset(self):\n",
    "        data = pd.read_csv(\"kick.csv\")\n",
    "        target = data[\"IsBadBuy\"].apply(lambda x: 1.0 if x == 0 else 0)\n",
    "        data[\"PurchYear\"] = pd.DatetimeIndex(data['PurchDate']).year\n",
    "        data[\"PurchMonth\"] = pd.DatetimeIndex(data['PurchDate']).month\n",
    "        data[\"PurchDay\"] = pd.DatetimeIndex(data['PurchDate']).day\n",
    "        data[\"PurchWeekday\"] = pd.DatetimeIndex(data['PurchDate']).weekday\n",
    "        data.drop([\"RefId\", \"IsBadBuy\", \"PurchDate\"], axis=1, inplace=True)\n",
    "        categorical_features = {0, 1, 3, 4, 5, 6, 7, 8, 9, 10, 12, 13, 14, 23, 24, 25, 26, 27, 29, 31, 32, 33, 34}\n",
    "        for i in categorical_features:\n",
    "            data[data.columns[i]] = data[data.columns[i]].apply(clean_string)\n",
    "        columns_to_impute = []\n",
    "        for i, column in enumerate(data.columns):\n",
    "            if i not in categorical_features and pd.isnull(data[column]).any():\n",
    "                columns_to_impute.append(column)\n",
    "        for column_name in columns_to_impute:\n",
    "            data[column_name + \"_imputed\"] = pd.isnull(data[column_name]).astype(float)\n",
    "            data[column_name].fillna(0, inplace=True)\n",
    "        for i, column in enumerate(data.columns):\n",
    "            if i not in categorical_features:\n",
    "                data[column] = data[column].astype(float)\n",
    "        return data, target, [data.columns[x] for x in categorical_features]\n",
    "    \n",
    "    \n",
    "KickExperiment().run()"
   ]
  }
 ],
 "metadata": {
  "kernelspec": {
   "display_name": "Python 3",
   "language": "python",
   "name": "python3"
  },
  "language_info": {
   "codemirror_mode": {
    "name": "ipython",
    "version": 3
   },
   "file_extension": ".py",
   "mimetype": "text/x-python",
   "name": "python",
   "nbconvert_exporter": "python",
   "pygments_lexer": "ipython3",
   "version": "3.8.3"
  }
 },
 "nbformat": 4,
 "nbformat_minor": 2
}
