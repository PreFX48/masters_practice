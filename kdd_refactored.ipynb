{
 "cells": [
  {
   "cell_type": "code",
   "execution_count": null,
   "metadata": {},
   "outputs": [],
   "source": [
    "%matplotlib inline"
   ]
  },
  {
   "cell_type": "code",
   "execution_count": null,
   "metadata": {},
   "outputs": [],
   "source": [
    "import numpy as np\n",
    "import pandas as pd\n",
    "from tensorflow import keras"
   ]
  },
  {
   "cell_type": "code",
   "execution_count": null,
   "metadata": {},
   "outputs": [],
   "source": [
    "import re\n",
    "\n",
    "def to_float_str(element):\n",
    "    try:\n",
    "        return str(float(element))\n",
    "    except ValueError:\n",
    "        return element\n",
    "\n",
    "\n",
    "\n",
    "def get_dataset(target):\n",
    "    targets = pd.read_csv(f'kdd/{target}.labels', names=['target'])['target']\n",
    "    targets = targets.apply(lambda x: 1 if x == 1 else 0)\n",
    "    data = pd.read_csv('kdd/kdd.data', sep='\\t')\n",
    "    data[target] = targets\n",
    "    targets = data[target]\n",
    "    data.drop([target], axis=1, inplace=True)\n",
    "    \n",
    "    categorical_features = {\n",
    "        190, 191, 192, 193, 194, 195, 196, 197, 198, 199, 200, 201, 202, 203, 204, 205, 206, 207, 209,\n",
    "        210, 211, 212, 213, 214, 215, 216, 217, 218, 219, 220, 221, 222, 223, 224, 225, 226, 227, 228,\n",
    "    }\n",
    "\n",
    "    for i in categorical_features:\n",
    "        data[data.columns[i]].fillna(\"?\", inplace=True)\n",
    "        data[data.columns[i]] = data[data.columns[i]].apply(lambda x: to_float_str(x))\n",
    "\n",
    "\n",
    "    columns_to_impute = []\n",
    "    for i, column in enumerate(data.columns):\n",
    "        if i not in categorical_features and pd.isnull(data[column]).any():\n",
    "            columns_to_impute.append(column)\n",
    "    for column_name in columns_to_impute:\n",
    "        data[column_name + \"_imputed\"] = pd.isnull(data[column_name]).astype(float)\n",
    "        data[column_name].fillna(0, inplace=True)\n",
    "\n",
    "    return data, targets, [data.columns[x] for x in categorical_features]\n"
   ]
  },
  {
   "cell_type": "code",
   "execution_count": null,
   "metadata": {
    "scrolled": false
   },
   "outputs": [],
   "source": [
    "from base_experiment import BaseExperiment\n",
    "\n",
    "class AppetencyExperiment(BaseExperiment):\n",
    "    POSITIVE_STEPS =[200, 450, 890]\n",
    "    NEGATIVE_STEPS = [1500, 3000, 6000, 12000, 24000, 49110]\n",
    "    PLOT_FIG_SIZE = (12, 16)\n",
    "\n",
    "    def get_dataset(self):\n",
    "        return get_dataset('appetency')\n",
    "    \n",
    "    \n",
    "AppetencyExperiment().run()"
   ]
  },
  {
   "cell_type": "code",
   "execution_count": null,
   "metadata": {},
   "outputs": [],
   "source": [
    "from base_experiment import BaseExperiment\n",
    "\n",
    "class UpsellingExperiment(BaseExperiment):\n",
    "    POSITIVE_STEPS = [900, 1800, 3682]\n",
    "    NEGATIVE_STEPS = [3000, 6000, 12000, 24000, 46318]\n",
    "    PLOT_FIG_SIZE = (12, 16)\n",
    "\n",
    "    def get_dataset(self):\n",
    "        return get_dataset('upselling')\n",
    "    \n",
    "    \n",
    "UpsellingExperiment().run()"
   ]
  },
  {
   "cell_type": "code",
   "execution_count": null,
   "metadata": {},
   "outputs": [],
   "source": []
  }
 ],
 "metadata": {
  "kernelspec": {
   "display_name": "Python 3",
   "language": "python",
   "name": "python3"
  },
  "language_info": {
   "codemirror_mode": {
    "name": "ipython",
    "version": 3
   },
   "file_extension": ".py",
   "mimetype": "text/x-python",
   "name": "python",
   "nbconvert_exporter": "python",
   "pygments_lexer": "ipython3",
   "version": "3.8.3"
  }
 },
 "nbformat": 4,
 "nbformat_minor": 2
}
